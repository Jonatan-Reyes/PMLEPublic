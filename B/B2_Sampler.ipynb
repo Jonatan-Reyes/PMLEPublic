{
 "cells": [
  {
   "cell_type": "code",
   "execution_count": 14,
   "id": "438c6ab4-e1c6-4498-b01f-441ddaf758a3",
   "metadata": {},
   "outputs": [
    {
     "name": "stdout",
     "output_type": "stream",
     "text": [
      "Area less than q True\n"
     ]
    },
    {
     "ename": "_LinAlgError",
     "evalue": "linalg.cholesky: The factorization could not be completed because the input is not positive-definite (the leading minor of order 1 is not positive-definite).",
     "output_type": "error",
     "traceback": [
      "\u001b[0;31m---------------------------------------------------------------------------\u001b[0m",
      "\u001b[0;31m_LinAlgError\u001b[0m                              Traceback (most recent call last)",
      "Cell \u001b[0;32mIn[14], line 95\u001b[0m\n\u001b[1;32m     93\u001b[0m mean \u001b[38;5;241m=\u001b[39m S_21 \u001b[38;5;241m*\u001b[39m (\u001b[38;5;241m1\u001b[39m\u001b[38;5;241m/\u001b[39mS_11) \u001b[38;5;241m*\u001b[39m q\n\u001b[1;32m     94\u001b[0m covariance \u001b[38;5;241m=\u001b[39m S_22 \u001b[38;5;241m-\u001b[39m (S_21\u001b[38;5;241m.\u001b[39munsqueeze(\u001b[38;5;241m1\u001b[39m) \u001b[38;5;241m@\u001b[39m ((\u001b[38;5;241m1\u001b[39m\u001b[38;5;241m/\u001b[39mS_11) \u001b[38;5;241m*\u001b[39m S_21)\u001b[38;5;241m.\u001b[39munsqueeze(\u001b[38;5;241m0\u001b[39m)) \u001b[38;5;241m+\u001b[39m torch\u001b[38;5;241m.\u001b[39meye(X\u001b[38;5;241m.\u001b[39mshape[\u001b[38;5;241m0\u001b[39m]) \u001b[38;5;241m*\u001b[39m \u001b[38;5;241m0.0001\u001b[39m\n\u001b[0;32m---> 95\u001b[0m scale_tril \u001b[38;5;241m=\u001b[39m torch\u001b[38;5;241m.\u001b[39mlinalg\u001b[38;5;241m.\u001b[39mcholesky(covariance)\n\u001b[1;32m     98\u001b[0m distrobution \u001b[38;5;241m=\u001b[39m dist\u001b[38;5;241m.\u001b[39mMultivariateNormal(mean, scale_tril\u001b[38;5;241m=\u001b[39mscale_tril)\n\u001b[1;32m    100\u001b[0m samples \u001b[38;5;241m=\u001b[39m distrobution\u001b[38;5;241m.\u001b[39msample(torch\u001b[38;5;241m.\u001b[39mSize([\u001b[38;5;241m5\u001b[39m]))\n",
      "\u001b[0;31m_LinAlgError\u001b[0m: linalg.cholesky: The factorization could not be completed because the input is not positive-definite (the leading minor of order 1 is not positive-definite)."
     ]
    }
   ],
   "source": [
    "import os\n",
    "import matplotlib.pyplot as plt\n",
    "import torch\n",
    "import numpy as np\n",
    "\n",
    "\n",
    "import pyro\n",
    "import pyro.contrib.gp as gp\n",
    "import pyro.distributions as dist\n",
    "\n",
    "from matplotlib.animation import FuncAnimation\n",
    "from mpl_toolkits.axes_grid1 import make_axes_locatable\n",
    "\n",
    "import seaborn as sns\n",
    "from sklearn import model_selection\n",
    "from sklearn.metrics import confusion_matrix, ConfusionMatrixDisplay\n",
    "\n",
    "\n",
    "smoke_test = \"CI\" in os.environ  # ignore; used to check code integrity in the Pyro repo\n",
    "assert pyro.__version__.startswith('1.9.1')\n",
    "#pyro.set_rng_seed(1)\n",
    "torch.set_default_tensor_type(torch.DoubleTensor)\n",
    "\n",
    "import argparse\n",
    "import os\n",
    "import time\n",
    "\n",
    "import matplotlib\n",
    "import matplotlib.pyplot as plt\n",
    "import numpy as np\n",
    "\n",
    "import jax\n",
    "from jax import vmap\n",
    "import jax.numpy as jnp\n",
    "import jax.random as random\n",
    "\n",
    "import pyro\n",
    "import pyro.distributions as dist\n",
    "from pyro.infer import MCMC, NUTS\n",
    "import torch\n",
    "\n",
    "from sklearn import model_selection\n",
    "import pyro.contrib.gp as gp\n",
    "\n",
    "import torch\n",
    "import numpy as np\n",
    "import seaborn as sns\n",
    "import arviz as az  \n",
    "\n",
    "def kernel(X, Z, variance, lengthscale):\n",
    "    calc = variance.pow(2) * torch.exp(-(1 / 2 * lengthscale.pow(2)) * (X - Z).pow(2))\n",
    "    return calc\n",
    "kernel2 = gp.kernels.RBF(input_dim=1, variance=torch.tensor(4.01), lengthscale=torch.tensor(0.1))\n",
    "\n",
    "q = 2 \n",
    "def func(x):\n",
    "    return - np.power((np.sin(6*np.pi*x)),2) + 6*np.power(x,2) - 5*np.power(x,4) + (3/2)\n",
    "x= np.linspace(0,1,100)\n",
    "\n",
    "y = func(x)\n",
    "\n",
    "def datafunc(x):\n",
    "    return func(x) + np.random.normal(0,0.01)\n",
    "    \n",
    "def gendata(l):\n",
    "    x = np.array(range(0,l-1))/(l-1)\n",
    "    y = datafunc(x)   \n",
    "    return x,y\n",
    "    \n",
    "data  = gendata(101)\n",
    "X, y = data[0], data[1]\n",
    "#plt.scatter(X, y)\n",
    "#plt.plot(x,y)\n",
    "#plt.show()\n",
    "print (\"Area less than q\", np.sum(y)/100 <q )\n",
    "\n",
    "\n",
    "w = [1/(100-1) for i in range(100)]\n",
    "w[0] = 1/(200-2)\n",
    "w[-1] = 1/(200-2)\n",
    "w = torch.tensor(np.array(w))\n",
    "\n",
    "D = np.array([(0, 1.46), (0.25, 0.93), (0.5, 2.76)])\n",
    "for q in [0, 2 ,5,10]:\n",
    "    \n",
    "    K = kernel2(torch.tensor(X), torch.tensor(X))\n",
    "    S_11 = w @ K @ w\n",
    "    S_21 = K @ w \n",
    "    S_12 = w @ K\n",
    "    S_22 = K\n",
    "\n",
    "    \n",
    "    mean = S_21 * (1/S_11) * q\n",
    "    covariance = S_22 - (S_21.unsqueeze(1) @ ((1/S_11) * S_21).unsqueeze(0)) + torch.eye(X.shape[0]) * 0.0001\n",
    "    scale_tril = torch.linalg.cholesky(covariance)\n",
    "\n",
    "\n",
    "    distrobution = dist.MultivariateNormal(mean, scale_tril=scale_tril)\n",
    "\n",
    "    samples = distrobution.sample(torch.Size([5]))\n",
    "\n",
    "    print(samples.shape[0])\n",
    "\n",
    "    #sns.jointplot(\n",
    "    #x= X,\n",
    "    #y= samples[0],\n",
    "    #kind=\"kde\",\n",
    "    #fill=True,\n",
    "    #cmap=\"Blues\")\n",
    "    plt.scatter(X, samples[0])\n",
    "    plt.scatter(X, samples[1])\n",
    "    plt.scatter(X, samples[2])\n",
    "    plt.scatter(X, samples[3])\n",
    "    plt.scatter(X, samples[4])\n",
    "    #sns.displot(samples[1], bins = 20)\n",
    "    plt.show()\n",
    "    \n",
    "\n"
   ]
  },
  {
   "cell_type": "code",
   "execution_count": 4,
   "id": "87b7422e-90e1-4e30-bd74-d51e0315c529",
   "metadata": {},
   "outputs": [
    {
     "data": {
      "text/plain": [
       "<matplotlib.collections.PathCollection at 0x712f08978590>"
      ]
     },
     "execution_count": 4,
     "metadata": {},
     "output_type": "execute_result"
    },
    {
     "data": {
      "image/png": "[encoded data removed]",
      "text/plain": [
       "<Figure size 640x480 with 1 Axes>"
      ]
     },
     "metadata": {},
     "output_type": "display_data"
    }
   ],
   "source": [
    "excluded_indices = {0, 25, 50}\n",
    "mask = ~np.isin(np.arange(mean.shape[0]), list(excluded_indices))\n",
    "plt.scatter(X[mask], post_mean.detach().numpy())\n",
    "plt.scatter(D[:,0], D[:, 1])\n",
    "plt.scatter(x, y)"
   ]
  },
  {
   "cell_type": "code",
   "execution_count": 4,
   "id": "57ff32c0-83d9-4d43-8dcd-1362231847ed",
   "metadata": {},
   "outputs": [],
   "source": [
    "def posterior_prediction(X, Y):\n",
    "    #Calculate old MU and old COVARIANCE\n",
    "    K = kernel2(torch.tensor(X), torch.tensor(X))\n",
    "    q = 2\n",
    "    S_11 = w @ K @ w\n",
    "    S_21 = K @ w \n",
    "    S_12 = w @ K\n",
    "    S_22 = K\n",
    "\n",
    "    \n",
    "    mean = S_21 * (1/S_11) * q\n",
    "    covariance = S_22 - (S_21.unsqueeze(1) @ ((1/S_11) * S_21).unsqueeze(0)) + torch.eye(X.shape[0]) * 0.0001\n",
    "\n",
    "    excluded_indices = {0, 25, 50}\n",
    "    mean_original = mean[~np.isin(np.arange(len(mean)), list(excluded_indices))]\n",
    "    \n",
    "    \n",
    "    mask = ~np.isin(np.arange(mean.shape[0]), list(excluded_indices))\n",
    "    covariance_original = covariance[mask][:, mask]\n",
    "\n",
    "    \n",
    "    #INDEX ROWS FROM Y TO ALL and Y to Y\n",
    "    excluded_indices = [0, 25, 50]\n",
    "    helper = covariance[:, excluded_indices]\n",
    "    y_to_all = helper[3:,:]\n",
    "    y_to_y = helper[:3,:]\n",
    "\n",
    "    noise = torch.rand(3) * 0.01\n",
    "    diagonal_tensor = torch.diag(noise)\n",
    "\n",
    "    post_mean =  mean_original + torch.tensor(y_to_all) @ torch.tensor((1/(y_to_y+diagonal_tensor))) @ torch.sub(torch.tensor(D[:,1]), mean[excluded_indices]) \n",
    "    post_cov = covariance_original - torch.tensor(y_to_all) @ torch.tensor((1/(y_to_y+diagonal_tensor))) @ torch.tensor(y_to_all).T\n",
    "    \n",
    "    print(post_mean.shape)\n",
    "    print(post_cov.shape)\n",
    "    return post_mean, post_cov"
   ]
  },
  {
   "cell_type": "code",
   "execution_count": 5,
   "id": "ed7a5c65-716c-4db2-a3b6-9c9d7ea5efc6",
   "metadata": {},
   "outputs": [
    {
     "data": {
      "text/plain": [
       "array([1.49409801, 0.84956676, 2.68159801])"
      ]
     },
     "execution_count": 5,
     "metadata": {},
     "output_type": "execute_result"
    }
   ],
   "source": [
    "excluded_indices = [0, 25, 50]\n",
    "y[excluded_indices]"
   ]
  },
  {
   "cell_type": "code",
   "execution_count": null,
   "id": "9bba89e8-10fb-4d19-b348-b78adce34dd3",
   "metadata": {},
   "outputs": [],
   "source": []
  }
 ],
 "metadata": {
  "kernelspec": {
   "display_name": "Python 3 (ipykernel)",
   "language": "python",
   "name": "python3"
  },
  "language_info": {
   "codemirror_mode": {
    "name": "ipython",
    "version": 3
   },
   "file_extension": ".py",
   "mimetype": "text/x-python",
   "name": "python",
   "nbconvert_exporter": "python",
   "pygments_lexer": "ipython3",
   "version": "3.11.10"
  }
 },
 "nbformat": 4,
 "nbformat_minor": 5
}
